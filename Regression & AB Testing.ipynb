{
 "cells": [
  {
   "cell_type": "markdown",
   "id": "729b98b8",
   "metadata": {},
   "source": [
    "# Prescriptive Models Assignment 1"
   ]
  },
  {
   "cell_type": "markdown",
   "id": "2c7add7b",
   "metadata": {},
   "source": [
    "## Setup\n",
    "First import the necessary python modules and libraries."
   ]
  },
  {
   "cell_type": "code",
   "execution_count": 1,
   "id": "74bb31ca",
   "metadata": {},
   "outputs": [],
   "source": [
    "import pandas as pd\n",
    "import matplotlib.pyplot as plt\n",
    "import numpy as np\n",
    "import statsmodels.api as sm\n",
    "import statsmodels.formula.api as smf"
   ]
  },
  {
   "cell_type": "markdown",
   "id": "cf1d67e9",
   "metadata": {},
   "source": [
    "## 1. Table 1"
   ]
  },
  {
   "cell_type": "markdown",
   "id": "5544e0ed",
   "metadata": {},
   "source": [
    "### Question 1:\n",
    "*Load the “charitable giving.csv” dataset and run a regression to assess whether the average\n",
    "“Number of months since last donation” is significantly different between treatment and control. Interpret\n",
    "the relevant regression coefficients and compare the regression-based comparison to the group-specific means\n",
    "reported in Table 1 of the paper.*"
   ]
  },
  {
   "cell_type": "code",
   "execution_count": 13,
   "id": "87153ccd",
   "metadata": {},
   "outputs": [
    {
     "data": {
      "text/html": [
       "<div>\n",
       "<style scoped>\n",
       "    .dataframe tbody tr th:only-of-type {\n",
       "        vertical-align: middle;\n",
       "    }\n",
       "\n",
       "    .dataframe tbody tr th {\n",
       "        vertical-align: top;\n",
       "    }\n",
       "\n",
       "    .dataframe thead th {\n",
       "        text-align: right;\n",
       "    }\n",
       "</style>\n",
       "<table border=\"1\" class=\"dataframe\">\n",
       "  <thead>\n",
       "    <tr style=\"text-align: right;\">\n",
       "      <th></th>\n",
       "      <th>donation_amount</th>\n",
       "      <th>donation_dummy</th>\n",
       "      <th>control</th>\n",
       "      <th>treatment</th>\n",
       "      <th>match_ratio</th>\n",
       "      <th>ratio1</th>\n",
       "      <th>ratio2</th>\n",
       "      <th>ratio3</th>\n",
       "      <th>red_state_dummy</th>\n",
       "      <th>months_since_last_donation</th>\n",
       "      <th>highest_previous_donation</th>\n",
       "      <th>prior_donations_num</th>\n",
       "    </tr>\n",
       "  </thead>\n",
       "  <tbody>\n",
       "    <tr>\n",
       "      <th>0</th>\n",
       "      <td>0.0</td>\n",
       "      <td>0.0</td>\n",
       "      <td>0.0</td>\n",
       "      <td>1.0</td>\n",
       "      <td>1.0</td>\n",
       "      <td>1</td>\n",
       "      <td>0.0</td>\n",
       "      <td>0.0</td>\n",
       "      <td>1.0</td>\n",
       "      <td>19.0</td>\n",
       "      <td>500.0</td>\n",
       "      <td>32.0</td>\n",
       "    </tr>\n",
       "    <tr>\n",
       "      <th>1</th>\n",
       "      <td>0.0</td>\n",
       "      <td>0.0</td>\n",
       "      <td>1.0</td>\n",
       "      <td>0.0</td>\n",
       "      <td>0.0</td>\n",
       "      <td>0</td>\n",
       "      <td>0.0</td>\n",
       "      <td>0.0</td>\n",
       "      <td>1.0</td>\n",
       "      <td>29.0</td>\n",
       "      <td>300.0</td>\n",
       "      <td>22.0</td>\n",
       "    </tr>\n",
       "    <tr>\n",
       "      <th>2</th>\n",
       "      <td>0.0</td>\n",
       "      <td>0.0</td>\n",
       "      <td>1.0</td>\n",
       "      <td>0.0</td>\n",
       "      <td>0.0</td>\n",
       "      <td>0</td>\n",
       "      <td>0.0</td>\n",
       "      <td>0.0</td>\n",
       "      <td>1.0</td>\n",
       "      <td>3.0</td>\n",
       "      <td>500.0</td>\n",
       "      <td>22.0</td>\n",
       "    </tr>\n",
       "    <tr>\n",
       "      <th>3</th>\n",
       "      <td>0.0</td>\n",
       "      <td>0.0</td>\n",
       "      <td>0.0</td>\n",
       "      <td>1.0</td>\n",
       "      <td>3.0</td>\n",
       "      <td>0</td>\n",
       "      <td>0.0</td>\n",
       "      <td>1.0</td>\n",
       "      <td>0.0</td>\n",
       "      <td>4.0</td>\n",
       "      <td>250.0</td>\n",
       "      <td>29.0</td>\n",
       "    </tr>\n",
       "    <tr>\n",
       "      <th>4</th>\n",
       "      <td>0.0</td>\n",
       "      <td>0.0</td>\n",
       "      <td>0.0</td>\n",
       "      <td>1.0</td>\n",
       "      <td>2.0</td>\n",
       "      <td>0</td>\n",
       "      <td>1.0</td>\n",
       "      <td>0.0</td>\n",
       "      <td>0.0</td>\n",
       "      <td>8.0</td>\n",
       "      <td>50.0</td>\n",
       "      <td>17.0</td>\n",
       "    </tr>\n",
       "  </tbody>\n",
       "</table>\n",
       "</div>"
      ],
      "text/plain": [
       "   donation_amount  donation_dummy  control  treatment  match_ratio  ratio1  \\\n",
       "0              0.0             0.0      0.0        1.0          1.0       1   \n",
       "1              0.0             0.0      1.0        0.0          0.0       0   \n",
       "2              0.0             0.0      1.0        0.0          0.0       0   \n",
       "3              0.0             0.0      0.0        1.0          3.0       0   \n",
       "4              0.0             0.0      0.0        1.0          2.0       0   \n",
       "\n",
       "   ratio2  ratio3  red_state_dummy  months_since_last_donation  \\\n",
       "0     0.0     0.0              1.0                        19.0   \n",
       "1     0.0     0.0              1.0                        29.0   \n",
       "2     0.0     0.0              1.0                         3.0   \n",
       "3     0.0     1.0              0.0                         4.0   \n",
       "4     1.0     0.0              0.0                         8.0   \n",
       "\n",
       "   highest_previous_donation  prior_donations_num  \n",
       "0                      500.0                 32.0  \n",
       "1                      300.0                 22.0  \n",
       "2                      500.0                 22.0  \n",
       "3                      250.0                 29.0  \n",
       "4                       50.0                 17.0  "
      ]
     },
     "execution_count": 13,
     "metadata": {},
     "output_type": "execute_result"
    }
   ],
   "source": [
    "# Load the charitable giving dataset\n",
    "df = pd.read_csv('charitable_giving.csv')\n",
    "df.head()"
   ]
  },
  {
   "cell_type": "markdown",
   "id": "d6660759",
   "metadata": {},
   "source": [
    "Below is the regression of average \"Number of months since last donation\" against the treatment group. Variable is equal to 1 if it's treatment, 0 if it's control."
   ]
  },
  {
   "cell_type": "code",
   "execution_count": 4,
   "id": "e62843d9",
   "metadata": {
    "scrolled": false
   },
   "outputs": [
    {
     "name": "stdout",
     "output_type": "stream",
     "text": [
      "                                OLS Regression Results                                \n",
      "======================================================================================\n",
      "Dep. Variable:     months_since_last_donation   R-squared:                       0.000\n",
      "Model:                                    OLS   Adj. R-squared:                 -0.000\n",
      "Method:                         Least Squares   F-statistic:                   0.01428\n",
      "Date:                        Mon, 17 Jan 2022   Prob (F-statistic):              0.905\n",
      "Time:                                19:58:30   Log-Likelihood:            -1.9585e+05\n",
      "No. Observations:                       50082   AIC:                         3.917e+05\n",
      "Df Residuals:                           50080   BIC:                         3.917e+05\n",
      "Df Model:                                   1                                         \n",
      "Covariance Type:                    nonrobust                                         \n",
      "==============================================================================\n",
      "                 coef    std err          t      P>|t|      [0.025      0.975]\n",
      "------------------------------------------------------------------------------\n",
      "Intercept     12.9981      0.094    138.979      0.000      12.815      13.181\n",
      "treatment      0.0137      0.115      0.119      0.905      -0.211       0.238\n",
      "==============================================================================\n",
      "Omnibus:                     8031.352   Durbin-Watson:                   1.714\n",
      "Prob(Omnibus):                  0.000   Jarque-Bera (JB):            12471.135\n",
      "Skew:                           1.163   Prob(JB):                         0.00\n",
      "Kurtosis:                       3.751   Cond. No.                         3.23\n",
      "==============================================================================\n",
      "\n",
      "Notes:\n",
      "[1] Standard Errors assume that the covariance matrix of the errors is correctly specified.\n"
     ]
    }
   ],
   "source": [
    "model_months = smf.ols(formula = 'months_since_last_donation ~ treatment',data = df)\n",
    "res_months = model_months.fit()\n",
    "print(res_months.summary())"
   ]
  },
  {
   "cell_type": "markdown",
   "id": "2ecf72f2",
   "metadata": {},
   "source": [
    "Average number of months since last donation for the treatment group is equal to $12.9981 + 0.0137 = 13.0118$ since we set the variable for treatment equal to 1 and include the $0.0137$ coefficient value in our answer. On the other hand, the average number of months since last donation for the control group is equal to just $12.9981$ since we do not include in the $0.0137$ in our answer because it's the control group."
   ]
  },
  {
   "cell_type": "markdown",
   "id": "9fe482b3",
   "metadata": {},
   "source": [
    "The answers we achieve from our regression compare well to the group-specific means reported in Table 1 which have values of $13.012$ for treatment and $12.998$ for control."
   ]
  },
  {
   "cell_type": "markdown",
   "id": "474ce206",
   "metadata": {},
   "source": [
    "### Question 2: \n",
    "*Is the difference in “Number of month since last donation” between treatment and control statistically significant (at the usual 95% confidence level)? Is this the result you expected?*\n"
   ]
  },
  {
   "cell_type": "markdown",
   "id": "09e98ca6",
   "metadata": {},
   "source": [
    "At the 95% confidence level, the difference between treatment and control is not statistically significant as we can see our p-value of $0.905$ does not fall below the necessary $0.05$ level to be considered significant."
   ]
  },
  {
   "cell_type": "markdown",
   "id": "73a45390",
   "metadata": {},
   "source": [
    "This is the result I expected because when you are testing treatment groups against control groups, the two groups should be very similar in their observable demographic information and prior history so that the effect of the treatment can be properly measured. Therefore, there should be no significant difference between the two groups on this statistic."
   ]
  },
  {
   "cell_type": "markdown",
   "id": "77de2dbe",
   "metadata": {},
   "source": [
    "### Question 3:\n",
    "*More generally, describe the take-away from Table 1 in the paper.*"
   ]
  },
  {
   "cell_type": "markdown",
   "id": "2d566c4d",
   "metadata": {},
   "source": [
    "Table 1 is essentially just to provide us with some summary statistics of our treatment and control groups to demonstrate the reliability of the sampling methods. In addition, any statistical significance found between treatment and control groups as a result of the experiment could be boiled down to something other than historical or demographic differences between the treatment and control groups."
   ]
  },
  {
   "cell_type": "markdown",
   "id": "ac218102",
   "metadata": {},
   "source": [
    "## 2. Response rate regressions"
   ]
  },
  {
   "cell_type": "markdown",
   "id": "6d3e8aed",
   "metadata": {},
   "source": [
    "### Question 1:\n",
    "*Run a linear regression of response rate (the donation dummy) on the treatment dummy (and\n",
    "an intercept). Interpret both coefficients and compare them to the results presented in the first row of Table 2a.*"
   ]
  },
  {
   "cell_type": "code",
   "execution_count": 8,
   "id": "3b85ed9d",
   "metadata": {},
   "outputs": [
    {
     "name": "stdout",
     "output_type": "stream",
     "text": [
      "                            OLS Regression Results                            \n",
      "==============================================================================\n",
      "Dep. Variable:         donation_dummy   R-squared:                       0.000\n",
      "Model:                            OLS   Adj. R-squared:                  0.000\n",
      "Method:                 Least Squares   F-statistic:                     9.618\n",
      "Date:                Mon, 17 Jan 2022   Prob (F-statistic):            0.00193\n",
      "Time:                        20:52:24   Log-Likelihood:                 26630.\n",
      "No. Observations:               50083   AIC:                        -5.326e+04\n",
      "Df Residuals:                   50081   BIC:                        -5.324e+04\n",
      "Df Model:                           1                                         \n",
      "Covariance Type:            nonrobust                                         \n",
      "==============================================================================\n",
      "                 coef    std err          t      P>|t|      [0.025      0.975]\n",
      "------------------------------------------------------------------------------\n",
      "Intercept      0.0179      0.001     16.225      0.000       0.016       0.020\n",
      "treatment      0.0042      0.001      3.101      0.002       0.002       0.007\n",
      "==============================================================================\n",
      "Omnibus:                    59814.280   Durbin-Watson:                   1.997\n",
      "Prob(Omnibus):                  0.000   Jarque-Bera (JB):          4317152.727\n",
      "Skew:                           6.740   Prob(JB):                         0.00\n",
      "Kurtosis:                      46.440   Cond. No.                         3.23\n",
      "==============================================================================\n",
      "\n",
      "Notes:\n",
      "[1] Standard Errors assume that the covariance matrix of the errors is correctly specified.\n"
     ]
    }
   ],
   "source": [
    "model_donation = smf.ols(formula = 'donation_dummy ~ treatment',data = df)\n",
    "res_donation = model_donation.fit()\n",
    "print(res_donation.summary())"
   ]
  },
  {
   "cell_type": "markdown",
   "id": "8350b3ed",
   "metadata": {},
   "source": [
    "Response rate for the treatment group is equal to $0.0179 + 0.0042 = 0.0221$ since we set the variable for treatment equal to 1 and include the $0.0042$ coefficient value in our answer. On the other hand, the response rate for the control group is equal to just $0.0179$ since we do not include in the $0.0042$ in our answer because it's the control group."
   ]
  },
  {
   "cell_type": "markdown",
   "id": "e78dab0f",
   "metadata": {},
   "source": [
    "The answers we achieve from our regression compare well to the results reported in Table 2A which have values of $0.022$ for treatment and $0.018$ for control."
   ]
  },
  {
   "cell_type": "markdown",
   "id": "e974c0ca",
   "metadata": {},
   "source": [
    "### Question 2:\n",
    "*Run a regression on three dummies for match ratio treatment (1:1, 2:1, and 3:1 and an\n",
    "intercept). Interpret all four regression coefficients.*"
   ]
  },
  {
   "cell_type": "code",
   "execution_count": 9,
   "id": "9266e5c9",
   "metadata": {
    "scrolled": false
   },
   "outputs": [
    {
     "name": "stdout",
     "output_type": "stream",
     "text": [
      "                            OLS Regression Results                            \n",
      "==============================================================================\n",
      "Dep. Variable:         donation_dummy   R-squared:                       0.000\n",
      "Model:                            OLS   Adj. R-squared:                  0.000\n",
      "Method:                 Least Squares   F-statistic:                     3.665\n",
      "Date:                Mon, 17 Jan 2022   Prob (F-statistic):             0.0118\n",
      "Time:                        21:01:53   Log-Likelihood:                 26630.\n",
      "No. Observations:               50083   AIC:                        -5.325e+04\n",
      "Df Residuals:                   50079   BIC:                        -5.322e+04\n",
      "Df Model:                           3                                         \n",
      "Covariance Type:            nonrobust                                         \n",
      "==============================================================================\n",
      "                 coef    std err          t      P>|t|      [0.025      0.975]\n",
      "------------------------------------------------------------------------------\n",
      "Intercept      0.0179      0.001     16.225      0.000       0.016       0.020\n",
      "ratio1         0.0029      0.002      1.661      0.097      -0.001       0.006\n",
      "ratio2         0.0048      0.002      2.744      0.006       0.001       0.008\n",
      "ratio3         0.0049      0.002      2.802      0.005       0.001       0.008\n",
      "==============================================================================\n",
      "Omnibus:                    59812.754   Durbin-Watson:                   1.997\n",
      "Prob(Omnibus):                  0.000   Jarque-Bera (JB):          4316693.217\n",
      "Skew:                           6.740   Prob(JB):                         0.00\n",
      "Kurtosis:                      46.438   Cond. No.                         4.26\n",
      "==============================================================================\n",
      "\n",
      "Notes:\n",
      "[1] Standard Errors assume that the covariance matrix of the errors is correctly specified.\n"
     ]
    }
   ],
   "source": [
    "model_ratio = smf.ols(formula = 'donation_dummy ~ ratio1 + ratio2 + ratio3',data = df)\n",
    "res_ratio = model_ratio.fit()\n",
    "print(res_ratio.summary())"
   ]
  },
  {
   "cell_type": "markdown",
   "id": "0a5609f9",
   "metadata": {},
   "source": [
    "Our intercept coefficient of $0.0179$ stays the same as before and indicates response rate for control group only. Coefficients for each of the match ratios are positive which indicates that there's an increase in response rate for all treatment groups, regardless of the level of the match ratio. In addition, if we'd like to assess the response rate for an individual match ratio, we would assign one of those variables a value of 1 and assign the rest of the variables a value of 0."
   ]
  },
  {
   "cell_type": "markdown",
   "id": "60f3215f",
   "metadata": {},
   "source": [
    "### Question 3:\n",
    "*Calculate the response rate difference between the 1:1 and 2:1 match ratios.*"
   ]
  },
  {
   "cell_type": "markdown",
   "id": "3ad1c53e",
   "metadata": {},
   "source": [
    "Response rate for the 1:1 match ratio is equal to $0.0179 + 0.0029 = 0.0208$ while the response rate for the 2:1 match ratio is equal to $0.0179 + 0.0048 = 0.0227$. Taking the difference between these two, we get $0.0227 - 0.0208 = 0.0019$. Thus, there is a 0.0019 difference in response rate between the 1:1 and 2:1 match ratios."
   ]
  },
  {
   "cell_type": "markdown",
   "id": "94bba5a6",
   "metadata": {},
   "source": [
    "### Question 4:\n",
    "*Based on the regressions you just ran and more generally the results in Table 2a, what do you\n",
    "conclude regarding the effectiveness of using matched donations?*\n"
   ]
  },
  {
   "cell_type": "markdown",
   "id": "a7d71816",
   "metadata": {},
   "source": [
    "Our regressions and the figures in Table 2A suggest that while there is possibly a significant difference in response rate between the treatment and control groups (at the 90% significance level), there does not seem to be any meaningful difference in donation likelihood among the match ratios at least. Meaning, larger match ratios relative to smaller match ratios have no additional influence."
   ]
  },
  {
   "cell_type": "markdown",
   "id": "17d93933",
   "metadata": {},
   "source": [
    "## 3. Response rates in red/blue states"
   ]
  },
  {
   "cell_type": "markdown",
   "id": "8302a8c5",
   "metadata": {},
   "source": [
    "### Question 1:\n",
    "*Repeat the regression of response rate on treatment and an intercept (do not include separate\n",
    "match ratio dummies). But this time, base the regression only on respondents in blue states or red states.\n",
    "I.e. run two regressions, one on each of the two sub-samples of data. Interpret the coefficients in both\n",
    "regressions. Is the treatment more effective in red or blue states?*\n",
    "\n",
    "\n"
   ]
  },
  {
   "cell_type": "markdown",
   "id": "0e5587b1",
   "metadata": {},
   "source": [
    "**Regression on blue states:**"
   ]
  },
  {
   "cell_type": "code",
   "execution_count": 12,
   "id": "86d5b93c",
   "metadata": {},
   "outputs": [
    {
     "data": {
      "text/html": [
       "<div>\n",
       "<style scoped>\n",
       "    .dataframe tbody tr th:only-of-type {\n",
       "        vertical-align: middle;\n",
       "    }\n",
       "\n",
       "    .dataframe tbody tr th {\n",
       "        vertical-align: top;\n",
       "    }\n",
       "\n",
       "    .dataframe thead th {\n",
       "        text-align: right;\n",
       "    }\n",
       "</style>\n",
       "<table border=\"1\" class=\"dataframe\">\n",
       "  <thead>\n",
       "    <tr style=\"text-align: right;\">\n",
       "      <th></th>\n",
       "      <th>donation_amount</th>\n",
       "      <th>donation_dummy</th>\n",
       "      <th>control</th>\n",
       "      <th>treatment</th>\n",
       "      <th>match_ratio</th>\n",
       "      <th>ratio1</th>\n",
       "      <th>ratio2</th>\n",
       "      <th>ratio3</th>\n",
       "      <th>red_state_dummy</th>\n",
       "      <th>months_since_last_donation</th>\n",
       "      <th>highest_previous_donation</th>\n",
       "      <th>prior_donations_num</th>\n",
       "    </tr>\n",
       "  </thead>\n",
       "  <tbody>\n",
       "    <tr>\n",
       "      <th>3</th>\n",
       "      <td>0.0</td>\n",
       "      <td>0.0</td>\n",
       "      <td>0.0</td>\n",
       "      <td>1.0</td>\n",
       "      <td>3.0</td>\n",
       "      <td>0</td>\n",
       "      <td>0.0</td>\n",
       "      <td>1.0</td>\n",
       "      <td>0.0</td>\n",
       "      <td>4.0</td>\n",
       "      <td>250.0</td>\n",
       "      <td>29.0</td>\n",
       "    </tr>\n",
       "    <tr>\n",
       "      <th>4</th>\n",
       "      <td>0.0</td>\n",
       "      <td>0.0</td>\n",
       "      <td>0.0</td>\n",
       "      <td>1.0</td>\n",
       "      <td>2.0</td>\n",
       "      <td>0</td>\n",
       "      <td>1.0</td>\n",
       "      <td>0.0</td>\n",
       "      <td>0.0</td>\n",
       "      <td>8.0</td>\n",
       "      <td>50.0</td>\n",
       "      <td>17.0</td>\n",
       "    </tr>\n",
       "    <tr>\n",
       "      <th>5</th>\n",
       "      <td>0.0</td>\n",
       "      <td>0.0</td>\n",
       "      <td>0.0</td>\n",
       "      <td>1.0</td>\n",
       "      <td>1.0</td>\n",
       "      <td>1</td>\n",
       "      <td>0.0</td>\n",
       "      <td>0.0</td>\n",
       "      <td>0.0</td>\n",
       "      <td>26.0</td>\n",
       "      <td>25.0</td>\n",
       "      <td>4.0</td>\n",
       "    </tr>\n",
       "    <tr>\n",
       "      <th>6</th>\n",
       "      <td>0.0</td>\n",
       "      <td>0.0</td>\n",
       "      <td>1.0</td>\n",
       "      <td>0.0</td>\n",
       "      <td>0.0</td>\n",
       "      <td>0</td>\n",
       "      <td>0.0</td>\n",
       "      <td>0.0</td>\n",
       "      <td>0.0</td>\n",
       "      <td>28.0</td>\n",
       "      <td>35.0</td>\n",
       "      <td>10.0</td>\n",
       "    </tr>\n",
       "    <tr>\n",
       "      <th>12</th>\n",
       "      <td>0.0</td>\n",
       "      <td>0.0</td>\n",
       "      <td>0.0</td>\n",
       "      <td>1.0</td>\n",
       "      <td>3.0</td>\n",
       "      <td>0</td>\n",
       "      <td>0.0</td>\n",
       "      <td>1.0</td>\n",
       "      <td>0.0</td>\n",
       "      <td>30.0</td>\n",
       "      <td>35.0</td>\n",
       "      <td>14.0</td>\n",
       "    </tr>\n",
       "  </tbody>\n",
       "</table>\n",
       "</div>"
      ],
      "text/plain": [
       "    donation_amount  donation_dummy  control  treatment  match_ratio  ratio1  \\\n",
       "3               0.0             0.0      0.0        1.0          3.0       0   \n",
       "4               0.0             0.0      0.0        1.0          2.0       0   \n",
       "5               0.0             0.0      0.0        1.0          1.0       1   \n",
       "6               0.0             0.0      1.0        0.0          0.0       0   \n",
       "12              0.0             0.0      0.0        1.0          3.0       0   \n",
       "\n",
       "    ratio2  ratio3  red_state_dummy  months_since_last_donation  \\\n",
       "3      0.0     1.0              0.0                         4.0   \n",
       "4      1.0     0.0              0.0                         8.0   \n",
       "5      0.0     0.0              0.0                        26.0   \n",
       "6      0.0     0.0              0.0                        28.0   \n",
       "12     0.0     1.0              0.0                        30.0   \n",
       "\n",
       "    highest_previous_donation  prior_donations_num  \n",
       "3                       250.0                 29.0  \n",
       "4                        50.0                 17.0  \n",
       "5                        25.0                  4.0  \n",
       "6                        35.0                 10.0  \n",
       "12                       35.0                 14.0  "
      ]
     },
     "execution_count": 12,
     "metadata": {},
     "output_type": "execute_result"
    }
   ],
   "source": [
    "# Create sub-sample of dataframe for blue states\n",
    "df_blue = df[df[\"red_state_dummy\"] == 0]\n",
    "df_blue.head()"
   ]
  },
  {
   "cell_type": "code",
   "execution_count": 15,
   "id": "64d35247",
   "metadata": {},
   "outputs": [
    {
     "name": "stdout",
     "output_type": "stream",
     "text": [
      "                            OLS Regression Results                            \n",
      "==============================================================================\n",
      "Dep. Variable:         donation_dummy   R-squared:                       0.000\n",
      "Model:                            OLS   Adj. R-squared:                 -0.000\n",
      "Method:                 Least Squares   F-statistic:                    0.3567\n",
      "Date:                Mon, 17 Jan 2022   Prob (F-statistic):              0.550\n",
      "Time:                        21:35:31   Log-Likelihood:                 15783.\n",
      "No. Observations:               29806   AIC:                        -3.156e+04\n",
      "Df Residuals:                   29804   BIC:                        -3.155e+04\n",
      "Df Model:                           1                                         \n",
      "Covariance Type:            nonrobust                                         \n",
      "==============================================================================\n",
      "                 coef    std err          t      P>|t|      [0.025      0.975]\n",
      "------------------------------------------------------------------------------\n",
      "Intercept      0.0200      0.001     14.085      0.000       0.017       0.023\n",
      "treatment      0.0010      0.002      0.597      0.550      -0.002       0.004\n",
      "==============================================================================\n",
      "Omnibus:                    35568.600   Durbin-Watson:                   1.996\n",
      "Prob(Omnibus):                  0.000   Jarque-Bera (JB):          2547856.644\n",
      "Skew:                           6.727   Prob(JB):                         0.00\n",
      "Kurtosis:                      46.250   Cond. No.                         3.21\n",
      "==============================================================================\n",
      "\n",
      "Notes:\n",
      "[1] Standard Errors assume that the covariance matrix of the errors is correctly specified.\n"
     ]
    }
   ],
   "source": [
    "model_blue = smf.ols(formula = 'donation_dummy ~ treatment',data = df_blue)\n",
    "res_blue = model_blue.fit()\n",
    "print(res_blue.summary())"
   ]
  },
  {
   "cell_type": "markdown",
   "id": "a22df5c3",
   "metadata": {},
   "source": [
    "**Regression on red states:**"
   ]
  },
  {
   "cell_type": "code",
   "execution_count": 14,
   "id": "2b2ada3b",
   "metadata": {},
   "outputs": [
    {
     "data": {
      "text/html": [
       "<div>\n",
       "<style scoped>\n",
       "    .dataframe tbody tr th:only-of-type {\n",
       "        vertical-align: middle;\n",
       "    }\n",
       "\n",
       "    .dataframe tbody tr th {\n",
       "        vertical-align: top;\n",
       "    }\n",
       "\n",
       "    .dataframe thead th {\n",
       "        text-align: right;\n",
       "    }\n",
       "</style>\n",
       "<table border=\"1\" class=\"dataframe\">\n",
       "  <thead>\n",
       "    <tr style=\"text-align: right;\">\n",
       "      <th></th>\n",
       "      <th>donation_amount</th>\n",
       "      <th>donation_dummy</th>\n",
       "      <th>control</th>\n",
       "      <th>treatment</th>\n",
       "      <th>match_ratio</th>\n",
       "      <th>ratio1</th>\n",
       "      <th>ratio2</th>\n",
       "      <th>ratio3</th>\n",
       "      <th>red_state_dummy</th>\n",
       "      <th>months_since_last_donation</th>\n",
       "      <th>highest_previous_donation</th>\n",
       "      <th>prior_donations_num</th>\n",
       "    </tr>\n",
       "  </thead>\n",
       "  <tbody>\n",
       "    <tr>\n",
       "      <th>0</th>\n",
       "      <td>0.0</td>\n",
       "      <td>0.0</td>\n",
       "      <td>0.0</td>\n",
       "      <td>1.0</td>\n",
       "      <td>1.0</td>\n",
       "      <td>1</td>\n",
       "      <td>0.0</td>\n",
       "      <td>0.0</td>\n",
       "      <td>1.0</td>\n",
       "      <td>19.0</td>\n",
       "      <td>500.0</td>\n",
       "      <td>32.0</td>\n",
       "    </tr>\n",
       "    <tr>\n",
       "      <th>1</th>\n",
       "      <td>0.0</td>\n",
       "      <td>0.0</td>\n",
       "      <td>1.0</td>\n",
       "      <td>0.0</td>\n",
       "      <td>0.0</td>\n",
       "      <td>0</td>\n",
       "      <td>0.0</td>\n",
       "      <td>0.0</td>\n",
       "      <td>1.0</td>\n",
       "      <td>29.0</td>\n",
       "      <td>300.0</td>\n",
       "      <td>22.0</td>\n",
       "    </tr>\n",
       "    <tr>\n",
       "      <th>2</th>\n",
       "      <td>0.0</td>\n",
       "      <td>0.0</td>\n",
       "      <td>1.0</td>\n",
       "      <td>0.0</td>\n",
       "      <td>0.0</td>\n",
       "      <td>0</td>\n",
       "      <td>0.0</td>\n",
       "      <td>0.0</td>\n",
       "      <td>1.0</td>\n",
       "      <td>3.0</td>\n",
       "      <td>500.0</td>\n",
       "      <td>22.0</td>\n",
       "    </tr>\n",
       "    <tr>\n",
       "      <th>7</th>\n",
       "      <td>0.0</td>\n",
       "      <td>0.0</td>\n",
       "      <td>0.0</td>\n",
       "      <td>1.0</td>\n",
       "      <td>2.0</td>\n",
       "      <td>0</td>\n",
       "      <td>1.0</td>\n",
       "      <td>0.0</td>\n",
       "      <td>1.0</td>\n",
       "      <td>11.0</td>\n",
       "      <td>300.0</td>\n",
       "      <td>20.0</td>\n",
       "    </tr>\n",
       "    <tr>\n",
       "      <th>8</th>\n",
       "      <td>0.0</td>\n",
       "      <td>0.0</td>\n",
       "      <td>0.0</td>\n",
       "      <td>1.0</td>\n",
       "      <td>3.0</td>\n",
       "      <td>0</td>\n",
       "      <td>0.0</td>\n",
       "      <td>1.0</td>\n",
       "      <td>1.0</td>\n",
       "      <td>30.0</td>\n",
       "      <td>100.0</td>\n",
       "      <td>8.0</td>\n",
       "    </tr>\n",
       "  </tbody>\n",
       "</table>\n",
       "</div>"
      ],
      "text/plain": [
       "   donation_amount  donation_dummy  control  treatment  match_ratio  ratio1  \\\n",
       "0              0.0             0.0      0.0        1.0          1.0       1   \n",
       "1              0.0             0.0      1.0        0.0          0.0       0   \n",
       "2              0.0             0.0      1.0        0.0          0.0       0   \n",
       "7              0.0             0.0      0.0        1.0          2.0       0   \n",
       "8              0.0             0.0      0.0        1.0          3.0       0   \n",
       "\n",
       "   ratio2  ratio3  red_state_dummy  months_since_last_donation  \\\n",
       "0     0.0     0.0              1.0                        19.0   \n",
       "1     0.0     0.0              1.0                        29.0   \n",
       "2     0.0     0.0              1.0                         3.0   \n",
       "7     1.0     0.0              1.0                        11.0   \n",
       "8     0.0     1.0              1.0                        30.0   \n",
       "\n",
       "   highest_previous_donation  prior_donations_num  \n",
       "0                      500.0                 32.0  \n",
       "1                      300.0                 22.0  \n",
       "2                      500.0                 22.0  \n",
       "7                      300.0                 20.0  \n",
       "8                      100.0                  8.0  "
      ]
     },
     "execution_count": 14,
     "metadata": {},
     "output_type": "execute_result"
    }
   ],
   "source": [
    "# Create sub-sample of dataframe for red states\n",
    "df_red = df[df[\"red_state_dummy\"] == 1]\n",
    "df_red.head()"
   ]
  },
  {
   "cell_type": "code",
   "execution_count": 16,
   "id": "addb714e",
   "metadata": {},
   "outputs": [
    {
     "name": "stdout",
     "output_type": "stream",
     "text": [
      "                            OLS Regression Results                            \n",
      "==============================================================================\n",
      "Dep. Variable:         donation_dummy   R-squared:                       0.001\n",
      "Model:                            OLS   Adj. R-squared:                  0.001\n",
      "Method:                 Least Squares   F-statistic:                     17.24\n",
      "Date:                Mon, 17 Jan 2022   Prob (F-statistic):           3.31e-05\n",
      "Time:                        21:35:35   Log-Likelihood:                 10839.\n",
      "No. Observations:               20242   AIC:                        -2.167e+04\n",
      "Df Residuals:                   20240   BIC:                        -2.166e+04\n",
      "Df Model:                           1                                         \n",
      "Covariance Type:            nonrobust                                         \n",
      "==============================================================================\n",
      "                 coef    std err          t      P>|t|      [0.025      0.975]\n",
      "------------------------------------------------------------------------------\n",
      "Intercept      0.0146      0.002      8.398      0.000       0.011       0.018\n",
      "treatment      0.0088      0.002      4.152      0.000       0.005       0.013\n",
      "==============================================================================\n",
      "Omnibus:                    24251.343   Durbin-Watson:                   2.002\n",
      "Prob(Omnibus):                  0.000   Jarque-Bera (JB):          1766349.071\n",
      "Skew:                           6.759   Prob(JB):                         0.00\n",
      "Kurtosis:                      46.721   Cond. No.                         3.25\n",
      "==============================================================================\n",
      "\n",
      "Notes:\n",
      "[1] Standard Errors assume that the covariance matrix of the errors is correctly specified.\n"
     ]
    }
   ],
   "source": [
    "model_red = smf.ols(formula = 'donation_dummy ~ treatment',data = df_red)\n",
    "res_red = model_red.fit()\n",
    "print(res_red.summary())"
   ]
  },
  {
   "cell_type": "markdown",
   "id": "c7845e30",
   "metadata": {},
   "source": [
    "The coefficients in both our regressions for the blue and red states are all positive which indicates there's an increase in response rate for the treatment groups. Specifically, the blue states have a value of $0.0200$ for the control group and a value of $0.0210$ for the treatment group, while the red states have a value of $0.0146$ for the control group and a value of $0.0234$ for the treatment group."
   ]
  },
  {
   "cell_type": "markdown",
   "id": "520f4486",
   "metadata": {},
   "source": [
    "Based on our regressions, we can see that the treatment is more effective in the red states as the coefficient on the treatment variable is statistically significant at the 95% confidence level (and above) while the coefficient on the treatment variable for the blue states is not statistically significant."
   ]
  },
  {
   "cell_type": "markdown",
   "id": "7e9b8280",
   "metadata": {},
   "source": [
    "### Question 2:\n",
    "*States are of course not randomly assigned. Does the treatment coefficient have a causal\n",
    "interpretation in each of the two regressions? Does the difference in the treatment effect between states\n",
    "have a causal interpretation?*"
   ]
  },
  {
   "cell_type": "markdown",
   "id": "407bf87f",
   "metadata": {},
   "source": [
    "When looking at each of the regressions separately, we can say that the treatment coefficient has a causal interpretation within those blue states alone or red states alone (treatment coefficient is significant/insignificant). Because the states are not randomly assigned however, the difference in the treatment effect does not have a causal interpretation because the demographics of each group could be different and there could be other factors influencing the difference in results that have nothing to do with the treatment (a.k.a. omitted variable bias)."
   ]
  },
  {
   "cell_type": "markdown",
   "id": "1da7dec7",
   "metadata": {},
   "source": [
    "## 4. Response rates and donation amount"
   ]
  },
  {
   "cell_type": "markdown",
   "id": "4371c23c",
   "metadata": {},
   "source": [
    "### Question 1: \n",
    "*Run a regression of dollars given on a treatment dummy and an intercept. Interpret the\n",
    "regression coefficients. Does the treatment coefficient have a causal interpretation?*\n",
    "\n"
   ]
  },
  {
   "cell_type": "code",
   "execution_count": 17,
   "id": "48bbf07c",
   "metadata": {},
   "outputs": [
    {
     "name": "stdout",
     "output_type": "stream",
     "text": [
      "                            OLS Regression Results                            \n",
      "==============================================================================\n",
      "Dep. Variable:        donation_amount   R-squared:                       0.000\n",
      "Model:                            OLS   Adj. R-squared:                  0.000\n",
      "Method:                 Least Squares   F-statistic:                     3.461\n",
      "Date:                Mon, 17 Jan 2022   Prob (F-statistic):             0.0628\n",
      "Time:                        22:10:06   Log-Likelihood:            -1.7946e+05\n",
      "No. Observations:               50083   AIC:                         3.589e+05\n",
      "Df Residuals:                   50081   BIC:                         3.589e+05\n",
      "Df Model:                           1                                         \n",
      "Covariance Type:            nonrobust                                         \n",
      "==============================================================================\n",
      "                 coef    std err          t      P>|t|      [0.025      0.975]\n",
      "------------------------------------------------------------------------------\n",
      "Intercept      0.8133      0.067     12.063      0.000       0.681       0.945\n",
      "treatment      0.1536      0.083      1.861      0.063      -0.008       0.315\n",
      "==============================================================================\n",
      "Omnibus:                    96861.113   Durbin-Watson:                   1.987\n",
      "Prob(Omnibus):                  0.000   Jarque-Bera (JB):        240735713.630\n",
      "Skew:                          15.297   Prob(JB):                         0.00\n",
      "Kurtosis:                     341.269   Cond. No.                         3.23\n",
      "==============================================================================\n",
      "\n",
      "Notes:\n",
      "[1] Standard Errors assume that the covariance matrix of the errors is correctly specified.\n"
     ]
    }
   ],
   "source": [
    "model_dollars = smf.ols(formula = 'donation_amount ~ treatment',data = df)\n",
    "res_dollars = model_dollars.fit()\n",
    "print(res_dollars.summary())"
   ]
  },
  {
   "cell_type": "markdown",
   "id": "76513f13",
   "metadata": {},
   "source": [
    "The intercept regression coefficient represents the control group while the treatment variable indicates the effect on donation amount for those in the treatment group. On average, we can expect a value of $0.8133$ for the donation amount of those in the control group and a value of $0.8133 + 0.1536 = 0.9669$ for the donation amount of those in the treatment group. Positive value for the treatment coefficient indicates that the treatment effect increases donation amount on average."
   ]
  },
  {
   "cell_type": "markdown",
   "id": "5848101c",
   "metadata": {},
   "source": [
    "In this situation, the treatment coefficient does have a causal interpretation because the demographics between control and treatment groups are controlled to be similar to one another. Therefore, we can assess any significant difference between the two groups to be a result of the treatment effect as opposed to observational differences between the two group's demographics."
   ]
  },
  {
   "cell_type": "markdown",
   "id": "ab8603ae",
   "metadata": {},
   "source": [
    "### Question 2:\n",
    "*Next, regress dollars given on a treatment dummy and an intercept, but base the regression\n",
    "only on respondents that made a donation (i.e. donation dummy is equal to 1). This regression allows\n",
    "you to analyze how much respondents donate conditional on donating some positive amount. Interpret the\n",
    "regression coefficients. Does the treatment coefficient have a causal interpretation?*"
   ]
  },
  {
   "cell_type": "code",
   "execution_count": 21,
   "id": "699d8d4c",
   "metadata": {},
   "outputs": [
    {
     "data": {
      "text/html": [
       "<div>\n",
       "<style scoped>\n",
       "    .dataframe tbody tr th:only-of-type {\n",
       "        vertical-align: middle;\n",
       "    }\n",
       "\n",
       "    .dataframe tbody tr th {\n",
       "        vertical-align: top;\n",
       "    }\n",
       "\n",
       "    .dataframe thead th {\n",
       "        text-align: right;\n",
       "    }\n",
       "</style>\n",
       "<table border=\"1\" class=\"dataframe\">\n",
       "  <thead>\n",
       "    <tr style=\"text-align: right;\">\n",
       "      <th></th>\n",
       "      <th>donation_amount</th>\n",
       "      <th>donation_dummy</th>\n",
       "      <th>control</th>\n",
       "      <th>treatment</th>\n",
       "      <th>match_ratio</th>\n",
       "      <th>ratio1</th>\n",
       "      <th>ratio2</th>\n",
       "      <th>ratio3</th>\n",
       "      <th>red_state_dummy</th>\n",
       "      <th>months_since_last_donation</th>\n",
       "      <th>highest_previous_donation</th>\n",
       "      <th>prior_donations_num</th>\n",
       "    </tr>\n",
       "  </thead>\n",
       "  <tbody>\n",
       "    <tr>\n",
       "      <th>24</th>\n",
       "      <td>40.0</td>\n",
       "      <td>1.0</td>\n",
       "      <td>0.0</td>\n",
       "      <td>1.0</td>\n",
       "      <td>2.0</td>\n",
       "      <td>0</td>\n",
       "      <td>1.0</td>\n",
       "      <td>0.0</td>\n",
       "      <td>1.0</td>\n",
       "      <td>7.0</td>\n",
       "      <td>100.0</td>\n",
       "      <td>41.0</td>\n",
       "    </tr>\n",
       "    <tr>\n",
       "      <th>31</th>\n",
       "      <td>25.0</td>\n",
       "      <td>1.0</td>\n",
       "      <td>0.0</td>\n",
       "      <td>1.0</td>\n",
       "      <td>1.0</td>\n",
       "      <td>1</td>\n",
       "      <td>0.0</td>\n",
       "      <td>0.0</td>\n",
       "      <td>0.0</td>\n",
       "      <td>8.0</td>\n",
       "      <td>25.0</td>\n",
       "      <td>19.0</td>\n",
       "    </tr>\n",
       "    <tr>\n",
       "      <th>51</th>\n",
       "      <td>25.0</td>\n",
       "      <td>1.0</td>\n",
       "      <td>0.0</td>\n",
       "      <td>1.0</td>\n",
       "      <td>1.0</td>\n",
       "      <td>1</td>\n",
       "      <td>0.0</td>\n",
       "      <td>0.0</td>\n",
       "      <td>0.0</td>\n",
       "      <td>30.0</td>\n",
       "      <td>200.0</td>\n",
       "      <td>14.0</td>\n",
       "    </tr>\n",
       "    <tr>\n",
       "      <th>83</th>\n",
       "      <td>25.0</td>\n",
       "      <td>1.0</td>\n",
       "      <td>0.0</td>\n",
       "      <td>1.0</td>\n",
       "      <td>1.0</td>\n",
       "      <td>1</td>\n",
       "      <td>0.0</td>\n",
       "      <td>0.0</td>\n",
       "      <td>0.0</td>\n",
       "      <td>2.0</td>\n",
       "      <td>50.0</td>\n",
       "      <td>40.0</td>\n",
       "    </tr>\n",
       "    <tr>\n",
       "      <th>88</th>\n",
       "      <td>15.0</td>\n",
       "      <td>1.0</td>\n",
       "      <td>0.0</td>\n",
       "      <td>1.0</td>\n",
       "      <td>3.0</td>\n",
       "      <td>0</td>\n",
       "      <td>0.0</td>\n",
       "      <td>1.0</td>\n",
       "      <td>0.0</td>\n",
       "      <td>10.0</td>\n",
       "      <td>50.0</td>\n",
       "      <td>39.0</td>\n",
       "    </tr>\n",
       "  </tbody>\n",
       "</table>\n",
       "</div>"
      ],
      "text/plain": [
       "    donation_amount  donation_dummy  control  treatment  match_ratio  ratio1  \\\n",
       "24             40.0             1.0      0.0        1.0          2.0       0   \n",
       "31             25.0             1.0      0.0        1.0          1.0       1   \n",
       "51             25.0             1.0      0.0        1.0          1.0       1   \n",
       "83             25.0             1.0      0.0        1.0          1.0       1   \n",
       "88             15.0             1.0      0.0        1.0          3.0       0   \n",
       "\n",
       "    ratio2  ratio3  red_state_dummy  months_since_last_donation  \\\n",
       "24     1.0     0.0              1.0                         7.0   \n",
       "31     0.0     0.0              0.0                         8.0   \n",
       "51     0.0     0.0              0.0                        30.0   \n",
       "83     0.0     0.0              0.0                         2.0   \n",
       "88     0.0     1.0              0.0                        10.0   \n",
       "\n",
       "    highest_previous_donation  prior_donations_num  \n",
       "24                      100.0                 41.0  \n",
       "31                       25.0                 19.0  \n",
       "51                      200.0                 14.0  \n",
       "83                       50.0                 40.0  \n",
       "88                       50.0                 39.0  "
      ]
     },
     "execution_count": 21,
     "metadata": {},
     "output_type": "execute_result"
    }
   ],
   "source": [
    "# Create sub-sample of dataframe for those that made a donation\n",
    "df_donate = df[df[\"donation_dummy\"] == 1]\n",
    "df_donate.head()"
   ]
  },
  {
   "cell_type": "code",
   "execution_count": 19,
   "id": "c351f881",
   "metadata": {},
   "outputs": [
    {
     "name": "stdout",
     "output_type": "stream",
     "text": [
      "                            OLS Regression Results                            \n",
      "==============================================================================\n",
      "Dep. Variable:        donation_amount   R-squared:                       0.000\n",
      "Model:                            OLS   Adj. R-squared:                 -0.001\n",
      "Method:                 Least Squares   F-statistic:                    0.3374\n",
      "Date:                Mon, 17 Jan 2022   Prob (F-statistic):              0.561\n",
      "Time:                        23:27:55   Log-Likelihood:                -5326.8\n",
      "No. Observations:                1034   AIC:                         1.066e+04\n",
      "Df Residuals:                    1032   BIC:                         1.067e+04\n",
      "Df Model:                           1                                         \n",
      "Covariance Type:            nonrobust                                         \n",
      "==============================================================================\n",
      "                 coef    std err          t      P>|t|      [0.025      0.975]\n",
      "------------------------------------------------------------------------------\n",
      "Intercept     45.5403      2.423     18.792      0.000      40.785      50.296\n",
      "treatment     -1.6684      2.872     -0.581      0.561      -7.305       3.968\n",
      "==============================================================================\n",
      "Omnibus:                      587.258   Durbin-Watson:                   1.838\n",
      "Prob(Omnibus):                  0.000   Jarque-Bera (JB):             5623.279\n",
      "Skew:                           2.464   Prob(JB):                         0.00\n",
      "Kurtosis:                      13.307   Cond. No.                         3.49\n",
      "==============================================================================\n",
      "\n",
      "Notes:\n",
      "[1] Standard Errors assume that the covariance matrix of the errors is correctly specified.\n"
     ]
    }
   ],
   "source": [
    "model_donation2 = smf.ols(formula = 'donation_amount ~ treatment',data = df_donate)\n",
    "res_donation2 = model_donation2.fit()\n",
    "print(res_donation2.summary())"
   ]
  },
  {
   "cell_type": "markdown",
   "id": "19a05631",
   "metadata": {},
   "source": [
    "The intercept regression coefficient represents the control group while the treatment variable indicates the effect on donation amount for those in the treatment group. On average, we can expect a value of  $45.5403$  for the donation amount of those in the control group and a value of  $45.5403-1.6684=43.8719$  for the donation amount of those in the treatment group. Negative value for the treatment coefficient indicates that the treatment effect decreases donation amount on average among those who made any donation."
   ]
  },
  {
   "cell_type": "markdown",
   "id": "5870abfd",
   "metadata": {},
   "source": [
    "In this situation, the treatment coefficient does not have a causal interpretation because the demographics between control and treatment groups are not controlled to be similar when we take a subset of the original data. Therefore, we cannot assess any significant difference between the two groups to be a result of the treatment effect as opposed to observational differences between the two group's demographics."
   ]
  }
 ],
 "metadata": {
  "kernelspec": {
   "display_name": "Python 3",
   "language": "python",
   "name": "python3"
  },
  "language_info": {
   "codemirror_mode": {
    "name": "ipython",
    "version": 3
   },
   "file_extension": ".py",
   "mimetype": "text/x-python",
   "name": "python",
   "nbconvert_exporter": "python",
   "pygments_lexer": "ipython3",
   "version": "3.8.8"
  }
 },
 "nbformat": 4,
 "nbformat_minor": 5
}
